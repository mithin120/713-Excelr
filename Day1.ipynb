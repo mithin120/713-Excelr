{
 "cells": [
  {
   "cell_type": "code",
   "execution_count": 2,
   "id": "67ba87ba-f5d7-42d0-ae87-6d2f5e955c9f",
   "metadata": {},
   "outputs": [
    {
     "name": "stdout",
     "output_type": "stream",
     "text": [
      "Integer variable: 10 Type: <class 'int'>\n",
      "Float variable: 10.5 Type: <class 'float'>\n",
      "String variable: Hello, Jupyter! Type: <class 'str'>\n",
      "Boolean variable: True Type: <class 'bool'>\n"
     ]
    }
   ],
   "source": [
    "# Declare variables of different data types\n",
    "integer_var = 10\n",
    "float_var = 10.5\n",
    "string_var = \"Hello, Jupyter!\"\n",
    "boolean_var = True\n",
    "\n",
    "# Print each variable and its type\n",
    "print(\"Integer variable:\", integer_var, \"Type:\", type(integer_var))\n",
    "print(\"Float variable:\", float_var, \"Type:\", type(float_var))\n",
    "print(\"String variable:\", string_var, \"Type:\", type(string_var))\n",
    "print(\"Boolean variable:\", boolean_var, \"Type:\", type(boolean_var))\n"
   ]
  },
  {
   "cell_type": "code",
   "execution_count": null,
   "id": "f2ac9345-db17-4aaf-8da3-1019b843394e",
   "metadata": {},
   "outputs": [],
   "source": [
    "# Create a list with 5 elements\n",
    "my_list = [10, \"apple\", 3.14, True, \"banana\"]\n",
    "\n",
    "# Access elements by index\n",
    "print(\"First element of the list:\", my_list[0])  # Accessing first element\n",
    "print(\"Third element of the list:\", my_list[2])  # Accessing third element\n",
    "print(\"Last element of the list:\", my_list[-1])  # Accessing last element using negative index\n"
   ]
  }
 ],
 "metadata": {
  "kernelspec": {
   "display_name": "Python [conda env:base] *",
   "language": "python",
   "name": "conda-base-py"
  },
  "language_info": {
   "codemirror_mode": {
    "name": "ipython",
    "version": 3
   },
   "file_extension": ".py",
   "mimetype": "text/x-python",
   "name": "python",
   "nbconvert_exporter": "python",
   "pygments_lexer": "ipython3",
   "version": "3.12.7"
  }
 },
 "nbformat": 4,
 "nbformat_minor": 5
}
