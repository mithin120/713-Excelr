{
 "cells": [
  {
   "cell_type": "code",
   "execution_count": 2,
   "id": "af600f49-0137-4fb0-a2c2-d678dd9dc9ad",
   "metadata": {},
   "outputs": [
    {
     "name": "stdout",
     "output_type": "stream",
     "text": [
      "First element of the list: 10\n",
      "Third element of the list: 3.14\n",
      "Last element of the list: banana\n"
     ]
    }
   ],
   "source": [
    "\n",
    "my_list = [10, \"apple\", 3.14, True, \"banana\"]\n",
    "print(\"First element of the list:\", my_list[0])  \n",
    "print(\"Third element of the list:\", my_list[2])  \n",
    "print(\"Last element of the list:\", my_list[-1])  \n"
   ]
  },
  {
   "cell_type": "code",
   "execution_count": 4,
   "id": "c8e35b94-6785-4cf7-817c-cbf651ca8645",
   "metadata": {},
   "outputs": [
    {
     "name": "stdout",
     "output_type": "stream",
     "text": [
      "Second element of the tuple: hello\n",
      "Fourth element of the tuple: False\n"
     ]
    }
   ],
   "source": [
    "\n",
    "my_tuple = (100, \"hello\", 6.28, False, \"world\")\n",
    "print(\"Second element of the tuple:\", my_tuple[1])  \n",
    "print(\"Fourth element of the tuple:\", my_tuple[3])  \n"
   ]
  },
  {
   "cell_type": "code",
   "execution_count": 6,
   "id": "bf4b2b88-c720-49c5-aed2-6d48eee06522",
   "metadata": {},
   "outputs": [
    {
     "name": "stdout",
     "output_type": "stream",
     "text": [
      "Name in the dictionary: Alice\n",
      "City in the dictionary: New York\n"
     ]
    }
   ],
   "source": [
    "\n",
    "my_dict = {\"name\": \"Alice\", \"age\": 30, \"city\": \"New York\", \"is_student\": False, \"height\": 5.6}\n",
    "print(\"Name in the dictionary:\", my_dict[\"name\"]) \n",
    "print(\"City in the dictionary:\", my_dict[\"city\"])  \n"
   ]
  },
  {
   "cell_type": "code",
   "execution_count": null,
   "id": "e5c5014f-0734-44c9-ae06-16a74c2ca41b",
   "metadata": {},
   "outputs": [],
   "source": []
  }
 ],
 "metadata": {
  "kernelspec": {
   "display_name": "Python [conda env:base] *",
   "language": "python",
   "name": "conda-base-py"
  },
  "language_info": {
   "codemirror_mode": {
    "name": "ipython",
    "version": 3
   },
   "file_extension": ".py",
   "mimetype": "text/x-python",
   "name": "python",
   "nbconvert_exporter": "python",
   "pygments_lexer": "ipython3",
   "version": "3.12.7"
  }
 },
 "nbformat": 4,
 "nbformat_minor": 5
}
