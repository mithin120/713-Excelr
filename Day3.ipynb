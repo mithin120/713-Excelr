{
 "cells": [
  {
   "cell_type": "code",
   "execution_count": 4,
   "id": "8188669f-e5c0-4483-b4e4-e4dd2728588a",
   "metadata": {},
   "outputs": [
    {
     "name": "stdin",
     "output_type": "stream",
     "text": [
      "Enter marks for subject 1:  22\n",
      "Enter marks for subject 2:  33\n",
      "Enter marks for subject 3:  44\n"
     ]
    },
    {
     "name": "stdout",
     "output_type": "stream",
     "text": [
      "Grade: Fail\n"
     ]
    }
   ],
   "source": [
    "\n",
    "subject1 = float(input(\"Enter marks for subject 1: \"))\n",
    "subject2 = float(input(\"Enter marks for subject 2: \"))\n",
    "subject3 = float(input(\"Enter marks for subject 3: \"))\n",
    "average = (subject1 + subject2 + subject3) / 3\n",
    "if average >= 90:\n",
    "    print(\"Grade: A\")\n",
    "elif 80 <= average < 90:\n",
    "    print(\"Grade: B\")\n",
    "elif 70 <= average < 80:\n",
    "    print(\"Grade: C\")\n",
    "else:\n",
    "    print(\"Grade: Fail\")\n"
   ]
  },
  {
   "cell_type": "code",
   "execution_count": null,
   "id": "76234c03-5ee4-4bc4-b285-78e94b7d1fca",
   "metadata": {},
   "outputs": [],
   "source": []
  }
 ],
 "metadata": {
  "kernelspec": {
   "display_name": "Python [conda env:base] *",
   "language": "python",
   "name": "conda-base-py"
  },
  "language_info": {
   "codemirror_mode": {
    "name": "ipython",
    "version": 3
   },
   "file_extension": ".py",
   "mimetype": "text/x-python",
   "name": "python",
   "nbconvert_exporter": "python",
   "pygments_lexer": "ipython3",
   "version": "3.12.7"
  }
 },
 "nbformat": 4,
 "nbformat_minor": 5
}
